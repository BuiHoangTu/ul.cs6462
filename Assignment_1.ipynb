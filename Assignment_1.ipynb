{
 "cells": [
  {
   "cell_type": "markdown",
   "id": "b8e5ed62",
   "metadata": {},
   "source": [
    "#### <div>\n",
    "<img src=\"https://www.ul.ie/themes/custom/ul/logo.svg\" width=\"350\"/>\n",
    "</div> \n",
    "\n",
    "\n",
    "## CS6402  Probabilistic and Explainable AI\n",
    "## SEM2 2024/5\n",
    "\n",
    "### CS6402 Assignment 1 - Probability \n",
    "\n",
    "### Instructor: Emil Vassev\n",
    "Feb 19th, 2025\n",
    "<br><br>\n",
    "Copyright (C) 2025 - All rights reserved, do not copy or distribute without permission of the author.\n",
    "***"
   ]
  },
  {
   "cell_type": "markdown",
   "id": "6c2603d7",
   "metadata": {},
   "source": [
    "## Submission Info\n",
    "### Student Name: Hoang Tu \n",
    "### Student Surname: Bui\n",
    "### Student ID: 24005665\n",
    "### Date of Final Submission: 08 Mar 2025\n",
    "***"
   ]
  },
  {
   "cell_type": "markdown",
   "id": "b318400f",
   "metadata": {},
   "source": [
    "# Task #1 (50%)"
   ]
  },
  {
   "cell_type": "markdown",
   "id": "a2b8d751",
   "metadata": {},
   "source": [
    "## Introduction\n",
    "Suppose you have a bag full of diamonds of different cut, color, clarity. You draw diamonds without replacement.\n",
    "\n",
    "In this task, you are asked to implement a Python code that will determine the probability of getting diamonds of a specific cut, color and clarity. \n",
    "\n",
    "## The Dataset\n",
    "The diamonds data can be loaded from the online repository hosted by the seaborn Python library. "
   ]
  },
  {
   "cell_type": "markdown",
   "id": "994d484c",
   "metadata": {},
   "source": [
    "The provided dataset can be loaded as following:"
   ]
  },
  {
   "cell_type": "code",
   "execution_count": 1,
   "id": "3f30c0a2",
   "metadata": {
    "scrolled": true
   },
   "outputs": [
    {
     "data": {
      "text/html": [
       "<div>\n",
       "<style scoped>\n",
       "    .dataframe tbody tr th:only-of-type {\n",
       "        vertical-align: middle;\n",
       "    }\n",
       "\n",
       "    .dataframe tbody tr th {\n",
       "        vertical-align: top;\n",
       "    }\n",
       "\n",
       "    .dataframe thead th {\n",
       "        text-align: right;\n",
       "    }\n",
       "</style>\n",
       "<table border=\"1\" class=\"dataframe\">\n",
       "  <thead>\n",
       "    <tr style=\"text-align: right;\">\n",
       "      <th></th>\n",
       "      <th>carat</th>\n",
       "      <th>cut</th>\n",
       "      <th>color</th>\n",
       "      <th>clarity</th>\n",
       "      <th>depth</th>\n",
       "      <th>table</th>\n",
       "      <th>price</th>\n",
       "      <th>x</th>\n",
       "      <th>y</th>\n",
       "      <th>z</th>\n",
       "    </tr>\n",
       "  </thead>\n",
       "  <tbody>\n",
       "    <tr>\n",
       "      <th>0</th>\n",
       "      <td>0.23</td>\n",
       "      <td>Ideal</td>\n",
       "      <td>E</td>\n",
       "      <td>SI2</td>\n",
       "      <td>61.5</td>\n",
       "      <td>55.0</td>\n",
       "      <td>326</td>\n",
       "      <td>3.95</td>\n",
       "      <td>3.98</td>\n",
       "      <td>2.43</td>\n",
       "    </tr>\n",
       "    <tr>\n",
       "      <th>1</th>\n",
       "      <td>0.21</td>\n",
       "      <td>Premium</td>\n",
       "      <td>E</td>\n",
       "      <td>SI1</td>\n",
       "      <td>59.8</td>\n",
       "      <td>61.0</td>\n",
       "      <td>326</td>\n",
       "      <td>3.89</td>\n",
       "      <td>3.84</td>\n",
       "      <td>2.31</td>\n",
       "    </tr>\n",
       "    <tr>\n",
       "      <th>2</th>\n",
       "      <td>0.23</td>\n",
       "      <td>Good</td>\n",
       "      <td>E</td>\n",
       "      <td>VS1</td>\n",
       "      <td>56.9</td>\n",
       "      <td>65.0</td>\n",
       "      <td>327</td>\n",
       "      <td>4.05</td>\n",
       "      <td>4.07</td>\n",
       "      <td>2.31</td>\n",
       "    </tr>\n",
       "    <tr>\n",
       "      <th>3</th>\n",
       "      <td>0.29</td>\n",
       "      <td>Premium</td>\n",
       "      <td>I</td>\n",
       "      <td>VS2</td>\n",
       "      <td>62.4</td>\n",
       "      <td>58.0</td>\n",
       "      <td>334</td>\n",
       "      <td>4.20</td>\n",
       "      <td>4.23</td>\n",
       "      <td>2.63</td>\n",
       "    </tr>\n",
       "    <tr>\n",
       "      <th>4</th>\n",
       "      <td>0.31</td>\n",
       "      <td>Good</td>\n",
       "      <td>J</td>\n",
       "      <td>SI2</td>\n",
       "      <td>63.3</td>\n",
       "      <td>58.0</td>\n",
       "      <td>335</td>\n",
       "      <td>4.34</td>\n",
       "      <td>4.35</td>\n",
       "      <td>2.75</td>\n",
       "    </tr>\n",
       "    <tr>\n",
       "      <th>5</th>\n",
       "      <td>0.24</td>\n",
       "      <td>Very Good</td>\n",
       "      <td>J</td>\n",
       "      <td>VVS2</td>\n",
       "      <td>62.8</td>\n",
       "      <td>57.0</td>\n",
       "      <td>336</td>\n",
       "      <td>3.94</td>\n",
       "      <td>3.96</td>\n",
       "      <td>2.48</td>\n",
       "    </tr>\n",
       "    <tr>\n",
       "      <th>6</th>\n",
       "      <td>0.24</td>\n",
       "      <td>Very Good</td>\n",
       "      <td>I</td>\n",
       "      <td>VVS1</td>\n",
       "      <td>62.3</td>\n",
       "      <td>57.0</td>\n",
       "      <td>336</td>\n",
       "      <td>3.95</td>\n",
       "      <td>3.98</td>\n",
       "      <td>2.47</td>\n",
       "    </tr>\n",
       "    <tr>\n",
       "      <th>7</th>\n",
       "      <td>0.26</td>\n",
       "      <td>Very Good</td>\n",
       "      <td>H</td>\n",
       "      <td>SI1</td>\n",
       "      <td>61.9</td>\n",
       "      <td>55.0</td>\n",
       "      <td>337</td>\n",
       "      <td>4.07</td>\n",
       "      <td>4.11</td>\n",
       "      <td>2.53</td>\n",
       "    </tr>\n",
       "    <tr>\n",
       "      <th>8</th>\n",
       "      <td>0.22</td>\n",
       "      <td>Fair</td>\n",
       "      <td>E</td>\n",
       "      <td>VS2</td>\n",
       "      <td>65.1</td>\n",
       "      <td>61.0</td>\n",
       "      <td>337</td>\n",
       "      <td>3.87</td>\n",
       "      <td>3.78</td>\n",
       "      <td>2.49</td>\n",
       "    </tr>\n",
       "    <tr>\n",
       "      <th>9</th>\n",
       "      <td>0.23</td>\n",
       "      <td>Very Good</td>\n",
       "      <td>H</td>\n",
       "      <td>VS1</td>\n",
       "      <td>59.4</td>\n",
       "      <td>61.0</td>\n",
       "      <td>338</td>\n",
       "      <td>4.00</td>\n",
       "      <td>4.05</td>\n",
       "      <td>2.39</td>\n",
       "    </tr>\n",
       "  </tbody>\n",
       "</table>\n",
       "</div>"
      ],
      "text/plain": [
       "   carat        cut color clarity  depth  table  price     x     y     z\n",
       "0   0.23      Ideal     E     SI2   61.5   55.0    326  3.95  3.98  2.43\n",
       "1   0.21    Premium     E     SI1   59.8   61.0    326  3.89  3.84  2.31\n",
       "2   0.23       Good     E     VS1   56.9   65.0    327  4.05  4.07  2.31\n",
       "3   0.29    Premium     I     VS2   62.4   58.0    334  4.20  4.23  2.63\n",
       "4   0.31       Good     J     SI2   63.3   58.0    335  4.34  4.35  2.75\n",
       "5   0.24  Very Good     J    VVS2   62.8   57.0    336  3.94  3.96  2.48\n",
       "6   0.24  Very Good     I    VVS1   62.3   57.0    336  3.95  3.98  2.47\n",
       "7   0.26  Very Good     H     SI1   61.9   55.0    337  4.07  4.11  2.53\n",
       "8   0.22       Fair     E     VS2   65.1   61.0    337  3.87  3.78  2.49\n",
       "9   0.23  Very Good     H     VS1   59.4   61.0    338  4.00  4.05  2.39"
      ]
     },
     "execution_count": 1,
     "metadata": {},
     "output_type": "execute_result"
    }
   ],
   "source": [
    "import seaborn as sns\n",
    "\n",
    "df = sns.load_dataset('diamonds')\n",
    "\n",
    "df.head(10)"
   ]
  },
  {
   "cell_type": "markdown",
   "id": "4f8572aa",
   "metadata": {},
   "source": [
    "## Computing Probability\n",
    "\n",
    "Use the ```fractions``` library, which provides support for rational number arithmetic. Use the ```compute_probability``` function to calculate probability. \n",
    "\n",
    "For more information on ```fractions```, please consult the reference page here: https://docs.python.org/3/library/fractions.html#fractions.Fraction"
   ]
  },
  {
   "cell_type": "code",
   "execution_count": 2,
   "id": "00ad1603",
   "metadata": {},
   "outputs": [],
   "source": [
    "from fractions import Fraction\n",
    "\n",
    "cases = len # the number of cases is the length, or size, of a set\n",
    "favorable = set.intersection # outcomes that are in the event and in the sample space\n",
    "\n",
    "def compute_probability(event, space): ### The probability of an event, given a sample space.\n",
    "\n",
    "    result = Fraction(cases(favorable(event, space)), cases(space))\n",
    "    probability = result.numerator / result.denominator\n",
    "    \n",
    "    return probability"
   ]
  },
  {
   "cell_type": "markdown",
   "id": "a2788722",
   "metadata": {},
   "source": [
    "# Step 1: Determine the Sample Space Parameters.  (5%)"
   ]
  },
  {
   "cell_type": "markdown",
   "id": "b7ad3798",
   "metadata": {},
   "source": [
    "<span style=\"color:red\">TODO</span>\n",
    "\n",
    "Define the Diamonds Sample Space as:\n",
    "* total number of diamonds\n",
    "* total number of diamonds in category of cut\n",
    "* total number of diamonds in category of color\n",
    "* total number of diamonds in category of clarity"
   ]
  },
  {
   "cell_type": "code",
   "execution_count": 3,
   "id": "54e75194",
   "metadata": {},
   "outputs": [
    {
     "name": "stdout",
     "output_type": "stream",
     "text": [
      "Diamond Space:  53940\n",
      "Cut Space:  5\n",
      "Color Space:  7\n",
      "Clarity Space:  8\n"
     ]
    }
   ],
   "source": [
    "diamondSpace = set(range(0, len(df)))\n",
    "cutSpace = set(df['cut'])\n",
    "colorSpace = set(df['color'])\n",
    "claritySpace = set(df['clarity'])\n",
    "\n",
    "print(\"Diamond Space: \", len(diamondSpace))\n",
    "print(\"Cut Space: \", len(cutSpace))\n",
    "print(\"Color Space: \", len(colorSpace))\n",
    "print(\"Clarity Space: \", len(claritySpace))"
   ]
  },
  {
   "cell_type": "markdown",
   "id": "cca74de4",
   "metadata": {},
   "source": [
    "# Step 2: Implement the Sample Space.  (15%)\n",
    "\n",
    "<span style=\"color:red\">TODO</span>\n",
    "\n",
    "Implement a loop that will read the dataframe ```df``` and complete the ```diamonds``` sample space. The sample space must contain strings describing each diamond in the bag in terms of cut, color, and clarity."
   ]
  },
  {
   "cell_type": "code",
   "execution_count": 4,
   "id": "06ff9d0c",
   "metadata": {},
   "outputs": [
    {
     "name": "stdout",
     "output_type": "stream",
     "text": [
      "Diamonds:  53940\n"
     ]
    }
   ],
   "source": [
    "diamonds = {str(i) + row[\"cut\"] + row[\"color\"] + row[\"clarity\"] for i, row in df.iterrows()}\n",
    "print(\"Diamonds: \", len(diamonds))"
   ]
  },
  {
   "cell_type": "markdown",
   "id": "166837cf",
   "metadata": {},
   "source": [
    "# Step 3: Implement Events and Compute Probabilites.  (30%)"
   ]
  },
  {
   "cell_type": "markdown",
   "id": "86ef8954",
   "metadata": {},
   "source": [
    "## Step 3.1: Compute the Probability of Drawing Five Diamonds with \"Ideal\" Cut Consecutively?   (10%)\n",
    "\n",
    "<span style=\"color:red\">TODO</span>\n",
    "\n",
    "* implement the event \"diamonds with ideal cut\"\n",
    "* compute the probability of drawing five diamonds with \"ideal\" cut consecutively and without replacement "
   ]
  },
  {
   "cell_type": "code",
   "execution_count": 5,
   "id": "9c0e9131",
   "metadata": {},
   "outputs": [
    {
     "name": "stdout",
     "output_type": "stream",
     "text": [
      "Probability of 5 'Ideal' diamonds consecutively:  0.010177975640258416\n"
     ]
    }
   ],
   "source": [
    "import math\n",
    "\n",
    "\n",
    "ev_diamonds_with_ideal_cut = {\n",
    "    str(i) + row[\"cut\"] + row[\"color\"] + row[\"clarity\"]\n",
    "    for i, row in df.iterrows()\n",
    "    if row[\"cut\"] == \"Ideal\"\n",
    "}\n",
    "\n",
    "##############\n",
    "# I can't used the method in taught notebook and need to work around because combinations of 5 out of 53940 is too large\n",
    "\n",
    "\n",
    "# select 5 random diamonds\n",
    "diamond5 = math.comb(len(diamonds), 5)\n",
    "# select 5 random diamonds with ideal cut. No intersection needed because ideal5 is a subset of diamond5\n",
    "ideal5 = math.comb(len(ev_diamonds_with_ideal_cut), 5)\n",
    "\n",
    "proba_5_ideal = ideal5 / diamond5\n",
    "\n",
    "print(\"Probability of 5 'Ideal' diamonds consecutively: \", proba_5_ideal)"
   ]
  },
  {
   "cell_type": "markdown",
   "id": "e3e37974",
   "metadata": {},
   "source": [
    "## Step 3.2: Compute the Probability of Drawing Five Diamonds with \"SI2\" Clarity Consecutively?   (10%)\n",
    "\n",
    "<span style=\"color:red\">TODO</span>\n",
    "\n",
    "* implement the event \"diamonds with SI2 clarity\"\n",
    "* compute the probability of drawing five diamonds with \"SI2\" clarity consecutively and without replacement"
   ]
  },
  {
   "cell_type": "code",
   "execution_count": 6,
   "id": "b868fe7f",
   "metadata": {},
   "outputs": [
    {
     "name": "stdout",
     "output_type": "stream",
     "text": [
      "Probability of 5 'SI2' diamonds consecutively:  0.00014373941027232868\n"
     ]
    }
   ],
   "source": [
    "ev_diamonds_with_si2_clarity = {\n",
    "    str(i) + row[\"cut\"] + row[\"color\"] + row[\"clarity\"]\n",
    "    for i, row in df.iterrows()\n",
    "    if row[\"clarity\"] == \"SI2\"\n",
    "}\n",
    "\n",
    "# select 5 random diamonds with si2 clarity. No intersection needed because si2_5 is a subset of diamond5\n",
    "si2_5 = math.comb(len(ev_diamonds_with_si2_clarity), 5)\n",
    "\n",
    "proba_5_si2 = si2_5 / diamond5\n",
    "\n",
    "print(\"Probability of 5 'SI2' diamonds consecutively: \", proba_5_si2)"
   ]
  },
  {
   "cell_type": "markdown",
   "id": "091a85d3",
   "metadata": {},
   "source": [
    "## Step 3.3: Compute the Probability of Drawing Five Diamonds with \"E\" Color Consecutively?   (5%)\n",
    "\n",
    "<span style=\"color:red\">TODO</span>\n",
    "\n",
    "* implement the event \"diamonds with E color\"\n",
    "* compute the probability of drawing five diamonds with \"E\" color consecutively and without replacement"
   ]
  },
  {
   "cell_type": "code",
   "execution_count": 7,
   "id": "14a76e9c",
   "metadata": {},
   "outputs": [
    {
     "name": "stdout",
     "output_type": "stream",
     "text": [
      "Probability of 5 'E' diamonds consecutively:  0.0001974913074784301\n"
     ]
    }
   ],
   "source": [
    "ev_diamonds_with_e_color = {\n",
    "    str(i) + row[\"cut\"] + row[\"color\"] + row[\"clarity\"]\n",
    "    for i, row in df.iterrows()\n",
    "    if row[\"color\"] == \"E\"\n",
    "}\n",
    "        \n",
    "# select 5 random diamonds with e color. No intersection needed because e_5 is a subset of diamond5\n",
    "e_5 = math.comb(len(ev_diamonds_with_e_color), 5)\n",
    "\n",
    "proba_5_e = e_5 / diamond5\n",
    "\n",
    "print(\"Probability of 5 'E' diamonds consecutively: \", proba_5_e)"
   ]
  },
  {
   "cell_type": "markdown",
   "id": "88e4a35e",
   "metadata": {},
   "source": [
    "## Step 3.4: Compute the Probability of Drawing Five Diamonds with \"Ideal\" cut, \"SI2\" Clarity, and \"E\" Color Consecutively?   (5%)\n",
    "\n",
    "<span style=\"color:red\">TODO</span>\n",
    "\n",
    "* implement the event \"diamonds with Ideal cut, SI2 clarity, and E color\"\n",
    "* compute the probability of drawing five diamonds with \"Ideal\" cut, \"SI2\" clarity, and \"E\" color consecutively and without replacement"
   ]
  },
  {
   "cell_type": "code",
   "execution_count": 8,
   "id": "5dd3b951",
   "metadata": {},
   "outputs": [
    {
     "name": "stdout",
     "output_type": "stream",
     "text": [
      "Probability of 5 diamonds with 'Ideal' cut, 'SI2' clarity, and 'E' color consecutively:  4.8651950023750083e-11\n"
     ]
    }
   ],
   "source": [
    "ev_diamonds_with_ideal_cut_si2_clarity_e_color = {\n",
    "    str(i) + row[\"cut\"] + row[\"color\"] + row[\"clarity\"]\n",
    "    for i, row in df.iterrows()\n",
    "    if row[\"cut\"] == \"Ideal\" and row[\"clarity\"] == \"SI2\" and row[\"color\"] == \"E\"\n",
    "}\n",
    "\n",
    "# select 5 random diamonds with ideal cut, si2 clarity, and e color. No intersection needed because 5_properties is a subset of diamond5\n",
    "proba_5_properties = math.comb(len(ev_diamonds_with_ideal_cut_si2_clarity_e_color), 5) / diamond5\n",
    "\n",
    "print(\n",
    "    \"Probability of 5 diamonds with 'Ideal' cut, 'SI2' clarity, and 'E' color consecutively: \",\n",
    "    proba_5_properties,\n",
    ")"
   ]
  },
  {
   "cell_type": "markdown",
   "id": "bae5914f",
   "metadata": {},
   "source": [
    "# Task #2 (50%)"
   ]
  },
  {
   "cell_type": "markdown",
   "id": "ba12e85c",
   "metadata": {},
   "source": [
    "## Introduction\n",
    "\n",
    "### Milk Production in Limerick, Ireland\n",
    "\n",
    "Mr. Collins, an Irish farmer from Limerick, has a herd of 12 dairy cows. He is producing milk daily and measures the litres of milk his cows produce for a month. Below is the milk produced for the last month, per cow.\n",
    "\n",
    "Milk = [651, 374, 601, 401, 767, 450, 342, 677, 567, 687, 445, 512]\n",
    "\n",
    "Mr. Collins would like to know how much milk a cow is expected to produce on average. \n",
    "\n",
    "For this, a statistician friend looks at the county production of milk, considering the entire population of dairy caws in Limerick. In Limerick County, there **125,411** dairy caws with a lowest monthly milk production for a caw of **245** litres and maximum milk production of **878** litres. The monthly milk production is measured in **whole litres**.\n",
    "\n",
    "\n",
    "The statistician decides to use the Bayesian Inference technique where milk is assumed to be normally distributed for the prior and likelihood distributions. For the milk spread in Limerick (normalization factor), the statistician decides to use the uniform distribution. \n",
    "\n",
    "\n",
    "Calculate the posterior milk distribution for Mr. Collins's farm. For the population of dairy caws in Ireland and their milk production per month, use the **numpy.linspace()** method."
   ]
  },
  {
   "cell_type": "markdown",
   "id": "35ce8807",
   "metadata": {},
   "source": [
    "## Bayesian Inference\n",
    "\n",
    "Inference - using statistics to deduce properties about a probability distribution from data.\n",
    "\n",
    "Bayes’ Theorem works not on events but on distributions:\n",
    "* Θ - set of parameters\n",
    "* P(Θ) - prior distribution, or distribution of our belief about the true value of Θ\n",
    "* P(Θ|data) - posterior distribution, or distribution of our belief about Θ after we have taken the observed data into account\n",
    "* P(data|Θ) - likelihood distribution measures the degree to which data supports Θ\n",
    "* P(data) - normalization distribution, i.e., is the total probability of the data taking into account all possible hypotheses \n",
    "<pre>\n",
    "              P(data|Θ) * P(Θ)\n",
    "   P(Θ|data) = -----------------\n",
    "\t\t          P(data)                                 \n",
    "</pre>"
   ]
  },
  {
   "cell_type": "markdown",
   "id": "5c0ef8ee",
   "metadata": {},
   "source": [
    "## Your Solution to Task #2 (50%)"
   ]
  },
  {
   "cell_type": "code",
   "execution_count": 24,
   "id": "8d8131e9",
   "metadata": {},
   "outputs": [
    {
     "data": {
      "image/png": "[encoded data removed]",
      "text/plain": [
       "<Figure size 640x480 with 1 Axes>"
      ]
     },
     "metadata": {},
     "output_type": "display_data"
    }
   ],
   "source": [
    "from matplotlib import pyplot as plt\n",
    "import numpy as np\n",
    "from scipy.stats import norm\n",
    "\n",
    "milk_data = np.array([651, 374, 601, 401, 767, 450, 342, 677, 567, 687, 445, 512])\n",
    "milk_data = np.sort(milk_data)\n",
    "\n",
    "limerick_min = 245\n",
    "limerick_max = 878\n",
    "limerick_mean = (limerick_min + limerick_max) / 2\n",
    "limerick_std = (limerick_max - limerick_min) / 6\n",
    "\n",
    "# Create grid using linspace\n",
    "num_points = limerick_max - limerick_min + 1\n",
    "prior_grid = np.linspace(limerick_min, limerick_max, num_points)\n",
    "\n",
    "# Calculate prior probability density for each \n",
    "prior = norm.pdf(prior_grid, limerick_mean, limerick_std)\n",
    "plt.plot(prior_grid, prior, label=\"Prior\")\n",
    "\n",
    "\n",
    "# Calculate likelihood for each cow\n",
    "pLikelihood = norm.pdf(milk_data, limerick_mean, limerick_std)\n",
    "plt.plot(milk_data, pLikelihood, \"o\", label=\"Likelihood\")\n",
    "\n",
    "plt.legend()\n",
    "plt.show()\n"
   ]
  },
  {
   "cell_type": "code",
   "execution_count": 41,
   "id": "17e76589",
   "metadata": {},
   "outputs": [
    {
     "data": {
      "text/plain": [
       "array([0.00157729, 0.00157729, 0.00157729, 0.00157729, 0.00157729,\n",
       "       0.00157729, 0.00157729, 0.00157729, 0.00157729, 0.00157729,\n",
       "       0.00157729, 0.00157729, 0.00157729, 0.00157729, 0.00157729,\n",
       "       0.00157729, 0.00157729, 0.00157729, 0.00157729, 0.00157729,\n",
       "       0.00157729, 0.00157729, 0.00157729, 0.00157729, 0.00157729,\n",
       "       0.00157729, 0.00157729, 0.00157729, 0.00157729, 0.00157729,\n",
       "       0.00157729, 0.00157729, 0.00157729, 0.00157729, 0.00157729,\n",
       "       0.00157729, 0.00157729, 0.00157729, 0.00157729, 0.00157729,\n",
       "       0.00157729, 0.00157729, 0.00157729, 0.00157729, 0.00157729,\n",
       "       0.00157729, 0.00157729, 0.00157729, 0.00157729, 0.00157729,\n",
       "       0.00157729, 0.00157729, 0.00157729, 0.00157729, 0.00157729,\n",
       "       0.00157729, 0.00157729, 0.00157729, 0.00157729, 0.00157729,\n",
       "       0.00157729, 0.00157729, 0.00157729, 0.00157729, 0.00157729,\n",
       "       0.00157729, 0.00157729, 0.00157729, 0.00157729, 0.00157729,\n",
       "       0.00157729, 0.00157729, 0.00157729, 0.00157729, 0.00157729,\n",
       "       0.00157729, 0.00157729, 0.00157729, 0.00157729, 0.00157729,\n",
       "       0.00157729, 0.00157729, 0.00157729, 0.00157729, 0.00157729,\n",
       "       0.00157729, 0.00157729, 0.00157729, 0.00157729, 0.00157729,\n",
       "       0.00157729, 0.00157729, 0.00157729, 0.00157729, 0.00157729,\n",
       "       0.00157729, 0.00157729, 0.00157729, 0.00157729, 0.00157729,\n",
       "       0.00157729, 0.00157729, 0.00157729, 0.00157729, 0.00157729,\n",
       "       0.00157729, 0.00157729, 0.00157729, 0.00157729, 0.00157729,\n",
       "       0.00157729, 0.00157729, 0.00157729, 0.00157729, 0.00157729,\n",
       "       0.00157729, 0.00157729, 0.00157729, 0.00157729, 0.00157729,\n",
       "       0.00157729, 0.00157729, 0.00157729, 0.00157729, 0.00157729,\n",
       "       0.00157729, 0.00157729, 0.00157729, 0.00157729, 0.00157729,\n",
       "       0.00157729, 0.00157729, 0.00157729, 0.00157729, 0.00157729,\n",
       "       0.00157729, 0.00157729, 0.00157729, 0.00157729, 0.00157729,\n",
       "       0.00157729, 0.00157729, 0.00157729, 0.00157729, 0.00157729,\n",
       "       0.00157729, 0.00157729, 0.00157729, 0.00157729, 0.00157729,\n",
       "       0.00157729, 0.00157729, 0.00157729, 0.00157729, 0.00157729,\n",
       "       0.00157729, 0.00157729, 0.00157729, 0.00157729, 0.00157729,\n",
       "       0.00157729, 0.00157729, 0.00157729, 0.00157729, 0.00157729,\n",
       "       0.00157729, 0.00157729, 0.00157729, 0.00157729, 0.00157729,\n",
       "       0.00157729, 0.00157729, 0.00157729, 0.00157729, 0.00157729,\n",
       "       0.00157729, 0.00157729, 0.00157729, 0.00157729, 0.00157729,\n",
       "       0.00157729, 0.00157729, 0.00157729, 0.00157729, 0.00157729,\n",
       "       0.00157729, 0.00157729, 0.00157729, 0.00157729, 0.00157729,\n",
       "       0.00157729, 0.00157729, 0.00157729, 0.00157729, 0.00157729,\n",
       "       0.00157729, 0.00157729, 0.00157729, 0.00157729, 0.00157729,\n",
       "       0.00157729, 0.00157729, 0.00157729, 0.00157729, 0.00157729,\n",
       "       0.00157729, 0.00157729, 0.00157729, 0.00157729, 0.00157729,\n",
       "       0.00157729, 0.00157729, 0.00157729, 0.00157729, 0.00157729,\n",
       "       0.00157729, 0.00157729, 0.00157729, 0.00157729, 0.00157729,\n",
       "       0.00157729, 0.00157729, 0.00157729, 0.00157729, 0.00157729,\n",
       "       0.00157729, 0.00157729, 0.00157729, 0.00157729, 0.00157729,\n",
       "       0.00157729, 0.00157729, 0.00157729, 0.00157729, 0.00157729,\n",
       "       0.00157729, 0.00157729, 0.00157729, 0.00157729, 0.00157729,\n",
       "       0.00157729, 0.00157729, 0.00157729, 0.00157729, 0.00157729,\n",
       "       0.00157729, 0.00157729, 0.00157729, 0.00157729, 0.00157729,\n",
       "       0.00157729, 0.00157729, 0.00157729, 0.00157729, 0.00157729,\n",
       "       0.00157729, 0.00157729, 0.00157729, 0.00157729, 0.00157729,\n",
       "       0.00157729, 0.00157729, 0.00157729, 0.00157729, 0.00157729,\n",
       "       0.00157729, 0.00157729, 0.00157729, 0.00157729, 0.00157729,\n",
       "       0.00157729, 0.00157729, 0.00157729, 0.00157729, 0.00157729,\n",
       "       0.00157729, 0.00157729, 0.00157729, 0.00157729, 0.00157729,\n",
       "       0.00157729, 0.00157729, 0.00157729, 0.00157729, 0.00157729,\n",
       "       0.00157729, 0.00157729, 0.00157729, 0.00157729, 0.00157729,\n",
       "       0.00157729, 0.00157729, 0.00157729, 0.00157729, 0.00157729,\n",
       "       0.00157729, 0.00157729, 0.00157729, 0.00157729, 0.00157729,\n",
       "       0.00157729, 0.00157729, 0.00157729, 0.00157729, 0.00157729,\n",
       "       0.00157729, 0.00157729, 0.00157729, 0.00157729, 0.00157729,\n",
       "       0.00157729, 0.00157729, 0.00157729, 0.00157729, 0.00157729,\n",
       "       0.00157729, 0.00157729, 0.00157729, 0.00157729, 0.00157729,\n",
       "       0.00157729, 0.00157729, 0.00157729, 0.00157729, 0.00157729,\n",
       "       0.00157729, 0.00157729, 0.00157729, 0.00157729, 0.00157729,\n",
       "       0.00157729, 0.00157729, 0.00157729, 0.00157729, 0.00157729,\n",
       "       0.00157729, 0.00157729, 0.00157729, 0.00157729, 0.00157729,\n",
       "       0.00157729, 0.00157729, 0.00157729, 0.00157729, 0.00157729,\n",
       "       0.00157729, 0.00157729, 0.00157729, 0.00157729, 0.00157729,\n",
       "       0.00157729, 0.00157729, 0.00157729, 0.00157729, 0.00157729,\n",
       "       0.00157729, 0.00157729, 0.00157729, 0.00157729, 0.00157729,\n",
       "       0.00157729, 0.00157729, 0.00157729, 0.00157729, 0.00157729,\n",
       "       0.00157729, 0.00157729, 0.00157729, 0.00157729, 0.00157729,\n",
       "       0.00157729, 0.00157729, 0.00157729, 0.00157729, 0.00157729,\n",
       "       0.00157729, 0.00157729, 0.00157729, 0.00157729, 0.00157729,\n",
       "       0.00157729, 0.00157729, 0.00157729, 0.00157729, 0.00157729,\n",
       "       0.00157729, 0.00157729, 0.00157729, 0.00157729, 0.00157729,\n",
       "       0.00157729, 0.00157729, 0.00157729, 0.00157729, 0.00157729,\n",
       "       0.00157729, 0.00157729, 0.00157729, 0.00157729, 0.00157729,\n",
       "       0.00157729, 0.00157729, 0.00157729, 0.00157729, 0.00157729,\n",
       "       0.00157729, 0.00157729, 0.00157729, 0.00157729, 0.00157729,\n",
       "       0.00157729, 0.00157729, 0.00157729, 0.00157729, 0.00157729,\n",
       "       0.00157729, 0.00157729, 0.00157729, 0.00157729, 0.00157729,\n",
       "       0.00157729, 0.00157729, 0.00157729, 0.00157729, 0.00157729,\n",
       "       0.00157729, 0.00157729, 0.00157729, 0.00157729, 0.00157729,\n",
       "       0.00157729, 0.00157729, 0.00157729, 0.00157729, 0.00157729,\n",
       "       0.00157729, 0.00157729, 0.00157729, 0.00157729, 0.00157729,\n",
       "       0.00157729, 0.00157729, 0.00157729, 0.00157729, 0.00157729,\n",
       "       0.00157729, 0.00157729, 0.00157729, 0.00157729, 0.00157729,\n",
       "       0.00157729, 0.00157729, 0.00157729, 0.00157729, 0.00157729,\n",
       "       0.00157729, 0.00157729, 0.00157729, 0.00157729, 0.00157729,\n",
       "       0.00157729, 0.00157729, 0.00157729, 0.00157729, 0.00157729,\n",
       "       0.00157729, 0.00157729, 0.00157729, 0.00157729, 0.00157729,\n",
       "       0.00157729, 0.00157729, 0.00157729, 0.00157729, 0.00157729,\n",
       "       0.00157729, 0.00157729, 0.00157729, 0.00157729, 0.00157729,\n",
       "       0.00157729, 0.00157729, 0.00157729, 0.00157729, 0.00157729,\n",
       "       0.00157729, 0.00157729, 0.00157729, 0.00157729, 0.00157729,\n",
       "       0.00157729, 0.00157729, 0.00157729, 0.00157729, 0.00157729,\n",
       "       0.00157729, 0.00157729, 0.00157729, 0.00157729, 0.00157729,\n",
       "       0.00157729, 0.00157729, 0.00157729, 0.00157729, 0.00157729,\n",
       "       0.00157729, 0.00157729, 0.00157729, 0.00157729, 0.00157729,\n",
       "       0.00157729, 0.00157729, 0.00157729, 0.00157729, 0.00157729,\n",
       "       0.00157729, 0.00157729, 0.00157729, 0.00157729, 0.00157729,\n",
       "       0.00157729, 0.00157729, 0.00157729, 0.00157729, 0.00157729,\n",
       "       0.00157729, 0.00157729, 0.00157729, 0.00157729, 0.00157729,\n",
       "       0.00157729, 0.00157729, 0.00157729, 0.00157729, 0.00157729,\n",
       "       0.00157729, 0.00157729, 0.00157729, 0.00157729, 0.00157729,\n",
       "       0.00157729, 0.00157729, 0.00157729, 0.00157729, 0.00157729,\n",
       "       0.00157729, 0.00157729, 0.00157729, 0.00157729, 0.00157729,\n",
       "       0.00157729, 0.00157729, 0.00157729, 0.00157729, 0.00157729,\n",
       "       0.00157729, 0.00157729, 0.00157729, 0.00157729, 0.00157729,\n",
       "       0.00157729, 0.00157729, 0.00157729, 0.00157729, 0.00157729,\n",
       "       0.00157729, 0.00157729, 0.00157729, 0.00157729, 0.00157729,\n",
       "       0.00157729, 0.00157729, 0.00157729, 0.00157729, 0.00157729,\n",
       "       0.00157729, 0.00157729, 0.00157729, 0.00157729, 0.00157729,\n",
       "       0.00157729, 0.00157729, 0.00157729, 0.00157729, 0.00157729,\n",
       "       0.00157729, 0.00157729, 0.00157729, 0.00157729, 0.00157729,\n",
       "       0.00157729, 0.00157729, 0.00157729, 0.00157729, 0.00157729,\n",
       "       0.00157729, 0.00157729, 0.00157729, 0.00157729, 0.00157729,\n",
       "       0.00157729, 0.00157729, 0.00157729, 0.00157729, 0.00157729,\n",
       "       0.00157729, 0.00157729, 0.00157729, 0.00157729, 0.00157729,\n",
       "       0.00157729, 0.00157729, 0.00157729, 0.00157729, 0.00157729,\n",
       "       0.00157729, 0.00157729, 0.00157729, 0.00157729, 0.00157729,\n",
       "       0.00157729, 0.00157729, 0.00157729, 0.00157729, 0.00157729,\n",
       "       0.00157729, 0.00157729, 0.00157729, 0.00157729, 0.00157729,\n",
       "       0.00157729, 0.00157729, 0.00157729, 0.00157729])"
      ]
     },
     "execution_count": 41,
     "metadata": {},
     "output_type": "execute_result"
    }
   ],
   "source": [
    "from scipy.stats import randint\n",
    "\n",
    "\n",
    "pNorm = randint.pmf(prior_grid, limerick_min, limerick_max + 1)\n",
    "pNorm"
   ]
  },
  {
   "cell_type": "code",
   "execution_count": 26,
   "id": "30df52e4",
   "metadata": {},
   "outputs": [],
   "source": [
    "def extractProbability(data, probas, min):\n",
    "    return [probas[elem - min] for elem in data]"
   ]
  },
  {
   "cell_type": "code",
   "execution_count": null,
   "id": "fdcfc71b",
   "metadata": {},
   "outputs": [
    {
     "name": "stdout",
     "output_type": "stream",
     "text": [
      "Milk Data:  [342 374 401 445 450 512 567 601 651 677 687 767]\n",
      "Posterior:  [0.00011952 0.00038515 0.0008959  0.00267809 0.00296693 0.0072744\n",
      " 0.00904116 0.00787997 0.00441418 0.0027345  0.00220212 0.00020399]\n"
     ]
    },
    {
     "data": {
      "image/png": "[encoded data removed]",
      "text/plain": [
       "<Figure size 640x480 with 1 Axes>"
      ]
     },
     "metadata": {},
     "output_type": "display_data"
    }
   ],
   "source": [
    "pPrior = extractProbability(milk_data, prior, limerick_min)\n",
    "pNormSample = extractProbability(milk_data, pNorm, limerick_min)\n",
    "\n",
    "posterior = pLikelihood * pPrior / pNormSample\n",
    "plt.plot(milk_data, posterior, \"--\", label=\"Posterior\")\n",
    "plt.legend()\n",
    "\n",
    "plt.show()"
   ]
  },
  {
   "cell_type": "code",
   "execution_count": 31,
   "id": "cdb7d96c",
   "metadata": {},
   "outputs": [
    {
     "data": {
      "image/png": "[encoded data removed]",
      "text/plain": [
       "<Figure size 640x480 with 1 Axes>"
      ]
     },
     "metadata": {},
     "output_type": "display_data"
    }
   ],
   "source": [
    "plt.plot(milk_data, pPrior, label=\"Prior\")\n",
    "plt.plot(milk_data, pLikelihood, \"o\", label=\"Likelihood\")\n",
    "plt.plot(milk_data, posterior, \"--\", label=\"Posterior\")\n",
    "plt.legend()\n",
    "plt.show()"
   ]
  },
  {
   "cell_type": "code",
   "execution_count": 35,
   "id": "901189c5",
   "metadata": {},
   "outputs": [
    {
     "name": "stdout",
     "output_type": "stream",
     "text": [
      "The cow produced 342 has a posterior probability of 0.00011952126913646575\n",
      "The cow produced 374 has a posterior probability of 0.00038515227137746\n",
      "The cow produced 401 has a posterior probability of 0.0008958962877267932\n",
      "The cow produced 445 has a posterior probability of 0.0026780881986814688\n",
      "The cow produced 450 has a posterior probability of 0.002966927058219714\n",
      "The cow produced 512 has a posterior probability of 0.00727440452895485\n",
      "The cow produced 567 has a posterior probability of 0.00904115961904359\n",
      "The cow produced 601 has a posterior probability of 0.007879970994925607\n",
      "The cow produced 651 has a posterior probability of 0.004414181450230362\n",
      "The cow produced 677 has a posterior probability of 0.0027344963726889915\n",
      "The cow produced 687 has a posterior probability of 0.002202119366647239\n",
      "The cow produced 767 has a posterior probability of 0.00020399052104308333\n"
     ]
    }
   ],
   "source": [
    "for i in range(0, len(milk_data)):\n",
    "    print(\"The cow\", \"produced\", milk_data[i], \"has a posterior probability of\", posterior[i])"
   ]
  }
 ],
 "metadata": {
  "kernelspec": {
   "display_name": "base",
   "language": "python",
   "name": "python3"
  },
  "language_info": {
   "codemirror_mode": {
    "name": "ipython",
    "version": 3
   },
   "file_extension": ".py",
   "mimetype": "text/x-python",
   "name": "python",
   "nbconvert_exporter": "python",
   "pygments_lexer": "ipython3",
   "version": "3.9.19"
  }
 },
 "nbformat": 4,
 "nbformat_minor": 5
}
